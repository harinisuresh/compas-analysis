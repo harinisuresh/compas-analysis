{
 "cells": [
  {
   "cell_type": "markdown",
   "metadata": {},
   "source": [
    "# Compas Analysis\n",
    "\n",
    "\n",
    "## Loading the Data\n",
    "\n",
    "We select fields for severity of charge, number of priors, demographics, age, sex, compas scores, and whether each person was accused of a crime within two years."
   ]
  },
  {
   "cell_type": "code",
   "execution_count": 1,
   "metadata": {
    "collapsed": false
   },
   "outputs": [],
   "source": [
    "import numpy as np\n",
    "import pandas as pd"
   ]
  },
  {
   "cell_type": "code",
   "execution_count": 78,
   "metadata": {
    "collapsed": true
   },
   "outputs": [],
   "source": [
    "import matplotlib.pyplot as plt\n",
    "%matplotlib inline"
   ]
  },
  {
   "cell_type": "code",
   "execution_count": 10,
   "metadata": {
    "collapsed": false
   },
   "outputs": [],
   "source": [
    "pd.options.display.max_columns = 100"
   ]
  },
  {
   "cell_type": "code",
   "execution_count": 2,
   "metadata": {
    "collapsed": false
   },
   "outputs": [],
   "source": [
    "raw_data = pd.read_csv('./compas-scores-two-years.csv',delimiter=',')"
   ]
  },
  {
   "cell_type": "code",
   "execution_count": 3,
   "metadata": {
    "collapsed": false
   },
   "outputs": [
    {
     "data": {
      "text/plain": [
       "Index([u'id', u'name', u'first', u'last', u'compas_screening_date', u'sex',\n",
       "       u'dob', u'age', u'age_cat', u'race', u'juv_fel_count', u'decile_score',\n",
       "       u'juv_misd_count', u'juv_other_count', u'priors_count',\n",
       "       u'days_b_screening_arrest', u'c_jail_in', u'c_jail_out',\n",
       "       u'c_case_number', u'c_offense_date', u'c_arrest_date',\n",
       "       u'c_days_from_compas', u'c_charge_degree', u'c_charge_desc',\n",
       "       u'is_recid', u'r_case_number', u'r_charge_degree',\n",
       "       u'r_days_from_arrest', u'r_offense_date', u'r_charge_desc',\n",
       "       u'r_jail_in', u'r_jail_out', u'violent_recid', u'is_violent_recid',\n",
       "       u'vr_case_number', u'vr_charge_degree', u'vr_offense_date',\n",
       "       u'vr_charge_desc', u'type_of_assessment', u'decile_score.1',\n",
       "       u'score_text', u'screening_date', u'v_type_of_assessment',\n",
       "       u'v_decile_score', u'v_score_text', u'v_screening_date', u'in_custody',\n",
       "       u'out_custody', u'priors_count.1', u'start', u'end', u'event',\n",
       "       u'two_year_recid'],\n",
       "      dtype='object')"
      ]
     },
     "execution_count": 3,
     "metadata": {},
     "output_type": "execute_result"
    }
   ],
   "source": [
    "raw_data.columns"
   ]
  },
  {
   "cell_type": "markdown",
   "metadata": {},
   "source": [
    "## Notes from COMPAS analysis:\n",
    "However not all of the rows are useable for the first round of analysis.\n",
    "\n",
    "There are a number of reasons remove rows because of missing data:\n",
    "* If the charge date of a defendants Compas scored crime was not within 30 days from when the person was arrested, we assume that because of data quality reasons, that we do not have the right offense.\n",
    "* We coded the recidivist flag -- `is_recid` -- to be -1 if we could not find a compas case at all.\n",
    "* In a similar vein, ordinary traffic offenses -- those with a `c_charge_degree` of 'O' -- will not result in Jail time are removed (only two of them).\n",
    "* We filtered the underlying data from Broward county to include only those rows representing people who had either recidivated in two years, or had at least two years outside of a correctional facility."
   ]
  },
  {
   "cell_type": "code",
   "execution_count": 23,
   "metadata": {
    "collapsed": false
   },
   "outputs": [],
   "source": [
    "data_df = raw_data[['age', 'c_charge_degree', 'race', 'age_cat', 'score_text', 'sex', 'priors_count', 'days_b_screening_arrest', 'decile_score', 'is_recid', 'two_year_recid', 'c_jail_in', 'c_jail_out']]\n",
    "data_df = data_df[data_df.days_b_screening_arrest <= 30]\n",
    "data_df = data_df[data_df.days_b_screening_arrest >= -30]\n",
    "data_df = data_df[data_df.is_recid != -1]\n",
    "data_df = data_df[data_df.c_charge_degree != \"O\"]\n",
    "data_df = data_df[data_df.score_text != 'N/A']"
   ]
  },
  {
   "cell_type": "code",
   "execution_count": 5,
   "metadata": {
    "collapsed": false
   },
   "outputs": [
    {
     "data": {
      "text/plain": [
       "(6172, 13)"
      ]
     },
     "execution_count": 5,
     "metadata": {},
     "output_type": "execute_result"
    }
   ],
   "source": [
    "data_df.shape"
   ]
  },
  {
   "cell_type": "markdown",
   "metadata": {},
   "source": [
    "## Define Metrics"
   ]
  },
  {
   "cell_type": "code",
   "execution_count": 331,
   "metadata": {
    "collapsed": true
   },
   "outputs": [],
   "source": [
    "# helper score to decision functions\n",
    "def threshold_round(scores, threshold=0.5, noise=False, mean=0, std=0.1):\n",
    "    if noise: scores = add_noise(scores, mean, std)\n",
    "    rounded_preds = np.array(scores >= threshold, dtype=float)\n",
    "    return rounded_preds\n",
    "\n",
    "def add_noise(scores, mean=0, std=.1):\n",
    "    noise = np.random.normal(mean,std,scores.shape)\n",
    "    return scores + noise\n",
    "\n",
    "def noisy_window(scores, lower_limit, upper_limit, mean=0, std=0.1):\n",
    "    scores_copy = np.copy(scores)\n",
    "    noisy_scores = add_noise(scores, mean, std)\n",
    "    scores_copy[(scores_copy >= lower_limit) & (scores_copy <= upper_limit)] = noisy_scores[(scores_copy >= lower_limit) & (scores_copy <= upper_limit)]\n",
    "    return scores_copy"
   ]
  },
  {
   "cell_type": "code",
   "execution_count": 232,
   "metadata": {
    "collapsed": false
   },
   "outputs": [],
   "source": [
    "# Calibration\n",
    "def get_calibration_curve(preds, true):\n",
    "    pred_calibration_arr = []\n",
    "    for score in sorted(np.unique(preds)): \n",
    "        actual_recid_for_score = true[preds == score]\n",
    "        actual_prob = sum(actual_recid_for_score)*1.0/len(actual_recid_for_score)\n",
    "        pred_calibration_arr.append(actual_prob)\n",
    "    return pred_calibration_arr\n",
    "\n",
    "# fpr\n",
    "def fpr(true, decisions):\n",
    "    tn, fp, fn, tp = confusion_matrix(true, decisions).ravel()\n",
    "    fpr = float(fp) / (fp + tn)\n",
    "    return fpr\n",
    "\n",
    "# fnr\n",
    "def fnr(true, decisions):\n",
    "    tn, fp, fn, tp = confusion_matrix(true, decisions).ravel()\n",
    "    fnr = float(fn) / (fn + tp)\n",
    "    return fnr\n",
    "\n",
    "# Disparate Impact\n",
    "def disparate_impact(group_a_decs, group_b_decs, group_a_true, group_b_true):\n",
    "    fpr_diff = fpr(group_a_true, group_a_decs) - fpr(group_b_true, group_b_decs)\n",
    "    return fpr_diff"
   ]
  },
  {
   "cell_type": "markdown",
   "metadata": {},
   "source": [
    "## Build a Model"
   ]
  },
  {
   "cell_type": "markdown",
   "metadata": {},
   "source": [
    "Building a model to predict recidivism (using age, charge type, # of prior convictions) in case at some point we want to add constraints + modify it instead of just using the existing COMPAS scores."
   ]
  },
  {
   "cell_type": "code",
   "execution_count": 128,
   "metadata": {
    "collapsed": false
   },
   "outputs": [],
   "source": [
    "from sklearn.linear_model import LogisticRegression\n",
    "from sklearn.model_selection import train_test_split\n",
    "from sklearn.metrics import roc_auc_score\n",
    "from sklearn.metrics import confusion_matrix"
   ]
  },
  {
   "cell_type": "code",
   "execution_count": 248,
   "metadata": {
    "collapsed": true
   },
   "outputs": [],
   "source": [
    "data_train, data_test = train_test_split(data_df, test_size = 0.25, random_state = 0, stratify = data_df.two_year_recid)"
   ]
  },
  {
   "cell_type": "code",
   "execution_count": 249,
   "metadata": {
    "collapsed": true
   },
   "outputs": [],
   "source": [
    "X_train = pd.get_dummies(data_train[['age_cat', 'c_charge_degree', 'priors_count']])\n",
    "X_test = pd.get_dummies(data_test[['age_cat', 'c_charge_degree', 'priors_count']])\n",
    "Y_train = data_train['two_year_recid']\n",
    "Y_test = data_test['two_year_recid']"
   ]
  },
  {
   "cell_type": "code",
   "execution_count": 250,
   "metadata": {
    "collapsed": false
   },
   "outputs": [],
   "source": [
    "lr = LogisticRegression()\n",
    "lr.fit(X_train, Y_train)\n",
    "preds = lr.predict_proba(X_test)[:,1]"
   ]
  },
  {
   "cell_type": "code",
   "execution_count": 251,
   "metadata": {
    "collapsed": false
   },
   "outputs": [],
   "source": [
    "accuracy = lr.score(X_test, Y_test)\n",
    "auc = roc_auc_score(Y_test, preds)"
   ]
  },
  {
   "cell_type": "code",
   "execution_count": 252,
   "metadata": {
    "collapsed": false
   },
   "outputs": [
    {
     "data": {
      "text/plain": [
       "(0.6740116655865198, 0.7343381065140875)"
      ]
     },
     "execution_count": 252,
     "metadata": {},
     "output_type": "execute_result"
    }
   ],
   "source": [
    "accuracy, auc"
   ]
  },
  {
   "cell_type": "code",
   "execution_count": 253,
   "metadata": {
    "collapsed": false
   },
   "outputs": [],
   "source": [
    "preds = np.array([round(p, 1) for p in preds])"
   ]
  },
  {
   "cell_type": "code",
   "execution_count": 254,
   "metadata": {
    "collapsed": true
   },
   "outputs": [],
   "source": [
    "true_recid_white = Y_test[data_test.race == 'Caucasian']\n",
    "true_recid_aa = Y_test[data_test.race == 'African-American']"
   ]
  },
  {
   "cell_type": "markdown",
   "metadata": {},
   "source": [
    "### Model Calibration + FPR + DI"
   ]
  },
  {
   "cell_type": "code",
   "execution_count": 255,
   "metadata": {
    "collapsed": false
   },
   "outputs": [],
   "source": [
    "all_calibration = get_calibration_curve(preds, Y_test)\n",
    "white_calibration = get_calibration_curve(preds[data_test.race == 'Caucasian'], true_recid_white)\n",
    "aa_calibration = get_calibration_curve(preds[data_test.race == 'African-American'], true_recid_aa)"
   ]
  },
  {
   "cell_type": "code",
   "execution_count": 256,
   "metadata": {
    "collapsed": false
   },
   "outputs": [
    {
     "data": {
      "text/plain": [
       "(0, 1)"
      ]
     },
     "execution_count": 256,
     "metadata": {},
     "output_type": "execute_result"
    },
    {
     "data": {
      "image/png": "[encoded data removed]",
      "text/plain": [
       "<matplotlib.figure.Figure at 0x125eea410>"
      ]
     },
     "metadata": {},
     "output_type": "display_data"
    }
   ],
   "source": [
    "plt.plot(np.unique(preds), all_calibration, label = 'All', marker = 'o')\n",
    "plt.plot(np.unique(preds), white_calibration, label = 'White', marker = 'o')\n",
    "plt.plot(np.unique(preds), aa_calibration, label = 'Black', marker = 'o')\n",
    "plt.plot(np.arange(0, 1.1, 0.1), np.arange(0, 1.1, 0.1), color='black')\n",
    "plt.xlabel('Predicted Recid Prob')\n",
    "plt.ylabel('Acutal Recid Prob')\n",
    "plt.legend(loc=2)\n",
    "plt.xlim(0, 1)\n",
    "plt.ylim(0, 1)"
   ]
  },
  {
   "cell_type": "markdown",
   "metadata": {},
   "source": [
    "Assuming DM that rounds up or down based on 0.5 threshold and follows exactly:"
   ]
  },
  {
   "cell_type": "code",
   "execution_count": 257,
   "metadata": {
    "collapsed": false
   },
   "outputs": [],
   "source": [
    "decisions_white = threshold_round(preds[data_test.race == 'Caucasian']) \n",
    "decisions_aa = threshold_round(preds[data_test.race == 'African-American'])"
   ]
  },
  {
   "cell_type": "code",
   "execution_count": 258,
   "metadata": {
    "collapsed": false
   },
   "outputs": [
    {
     "name": "stdout",
     "output_type": "stream",
     "text": [
      "fpr (white): 0.248447204969\n",
      "fpr (black): 0.427055702918\n"
     ]
    }
   ],
   "source": [
    "print \"fpr (white): \" + str(fpr(true_recid_white, decisions_white))\n",
    "print \"fpr (black): \" + str(fpr(true_recid_aa, decisions_aa))"
   ]
  },
  {
   "cell_type": "code",
   "execution_count": 260,
   "metadata": {
    "collapsed": false
   },
   "outputs": [
    {
     "name": "stdout",
     "output_type": "stream",
     "text": [
      "disparate impact (for fpr): -0.178608497949\n"
     ]
    }
   ],
   "source": [
    "print \"disparate impact (for fpr): {}\".format(disparate_impact(decisions_white,\n",
    "                                                               decisions_aa,\n",
    "                                                               true_recid_white,\n",
    "                                                               true_recid_aa))"
   ]
  },
  {
   "cell_type": "markdown",
   "metadata": {},
   "source": [
    "## Actual COMPAS score calibration + FPR + DI"
   ]
  },
  {
   "cell_type": "code",
   "execution_count": 332,
   "metadata": {
    "collapsed": true
   },
   "outputs": [],
   "source": [
    "scores = data_test.decile_score / 10.\n",
    "scores_white = scores[data_test.race == 'Caucasian']\n",
    "scores_aa = scores[data_test.race == 'African-American']\n",
    "\n",
    "scores = np.array([round(s, 1) for s in scores])\n",
    "scores_white = np.array([round(s, 1) for s in scores_white])\n",
    "scores_aa = np.array([round(s, 1) for s in scores_aa])\n",
    "\n",
    "# Decisions are just rounded scores.\n",
    "decisions = threshold_round(scores)\n",
    "decisions_white = decisions[data_test.race == 'Caucasian']\n",
    "decisions_aa = decisions[data_test.race == 'African-American']"
   ]
  },
  {
   "cell_type": "code",
   "execution_count": 333,
   "metadata": {
    "collapsed": false
   },
   "outputs": [],
   "source": [
    "accuracy = sum(decisions == np.array(Y_test)) / float(len(Y_test))\n",
    "auc = roc_auc_score(Y_test, scores)"
   ]
  },
  {
   "cell_type": "code",
   "execution_count": 334,
   "metadata": {
    "collapsed": false
   },
   "outputs": [
    {
     "data": {
      "text/plain": [
       "(0.6668826960466624, 0.7204818236328343)"
      ]
     },
     "execution_count": 334,
     "metadata": {},
     "output_type": "execute_result"
    }
   ],
   "source": [
    "accuracy, auc"
   ]
  },
  {
   "cell_type": "code",
   "execution_count": 335,
   "metadata": {
    "collapsed": true
   },
   "outputs": [],
   "source": [
    "all_calibration = get_calibration_curve(scores, Y_test)\n",
    "white_calibration = get_calibration_curve(scores_white, true_recid_white)\n",
    "aa_calibration = get_calibration_curve(scores_aa, true_recid_aa)"
   ]
  },
  {
   "cell_type": "code",
   "execution_count": 336,
   "metadata": {
    "collapsed": false
   },
   "outputs": [
    {
     "data": {
      "text/plain": [
       "(0, 1)"
      ]
     },
     "execution_count": 336,
     "metadata": {},
     "output_type": "execute_result"
    },
    {
     "data": {
      "image/png": "[encoded data removed]",
      "text/plain": [
       "<matplotlib.figure.Figure at 0x129bfd510>"
      ]
     },
     "metadata": {},
     "output_type": "display_data"
    }
   ],
   "source": [
    "x_axis = np.unique(data_test.decile_score / 10.)\n",
    "plt.plot(x_axis, all_calibration, label = 'All', marker = 'o')\n",
    "plt.plot(x_axis, white_calibration, label = 'White', marker = 'o')\n",
    "plt.plot(x_axis, aa_calibration, label = 'Black', marker = 'o')\n",
    "plt.plot(np.arange(0, 1.1, 0.1), np.arange(0, 1.1, 0.1), color='black')\n",
    "plt.xlabel('Predicted Recid Prob')\n",
    "plt.ylabel('Acutal Recid Prob')\n",
    "plt.legend(loc=2)\n",
    "plt.xlim(0, 1)\n",
    "plt.ylim(0, 1)"
   ]
  },
  {
   "cell_type": "code",
   "execution_count": 337,
   "metadata": {
    "collapsed": false
   },
   "outputs": [
    {
     "name": "stdout",
     "output_type": "stream",
     "text": [
      "fpr (white): 0.204968944099\n",
      "fpr (black): 0.413793103448\n"
     ]
    }
   ],
   "source": [
    "print \"fpr (white): \" + str(fpr(true_recid_white, decisions_white))\n",
    "print \"fpr (black): \" + str(fpr(true_recid_aa, decisions_aa))"
   ]
  },
  {
   "cell_type": "code",
   "execution_count": 338,
   "metadata": {
    "collapsed": false
   },
   "outputs": [
    {
     "name": "stdout",
     "output_type": "stream",
     "text": [
      "disparate impact (for fpr): -0.208824159349\n"
     ]
    }
   ],
   "source": [
    "print \"disparate impact (for fpr): {}\".format(disparate_impact(decisions_white,\n",
    "                                                               decisions_aa,\n",
    "                                                               true_recid_white,\n",
    "                                                               true_recid_aa))"
   ]
  },
  {
   "cell_type": "code",
   "execution_count": 339,
   "metadata": {
    "collapsed": true
   },
   "outputs": [],
   "source": [
    "# what is the decision?  release or detain\n",
    "# what is the outcome? recidivate in 2 yrs or not - sort of weird and indirect"
   ]
  },
  {
   "cell_type": "markdown",
   "metadata": {},
   "source": [
    "Note: this is a bit complicated because deviation from the score is not necessarily *bad* because the score itself isn't that great. "
   ]
  },
  {
   "cell_type": "markdown",
   "metadata": {},
   "source": [
    "## g(x) #1: different thresholds for decision-making\n",
    "If prior belief is \"African American defendants are riskier\", change threshold for predicting recid or not to be lower for those defendants (instead of simply rounding at 0.5)."
   ]
  },
  {
   "cell_type": "markdown",
   "metadata": {},
   "source": [
    "For example, using a threshold of 0.4 for African American defendants:"
   ]
  },
  {
   "cell_type": "code",
   "execution_count": 340,
   "metadata": {
    "collapsed": true
   },
   "outputs": [],
   "source": [
    "decisions_white = threshold_round(scores_white)\n",
    "decisions_aa = threshold_round(scores_aa, threshold=0.4)"
   ]
  },
  {
   "cell_type": "code",
   "execution_count": 341,
   "metadata": {
    "collapsed": false
   },
   "outputs": [
    {
     "name": "stdout",
     "output_type": "stream",
     "text": [
      "fpr (white): 0.204968944099\n",
      "fpr (black): 0.51724137931\n"
     ]
    }
   ],
   "source": [
    "print \"fpr (white): {}\".format(fpr(true_recid_white, decisions_white))\n",
    "print \"fpr (black): {}\".format(fpr(true_recid_aa, decisions_aa))"
   ]
  },
  {
   "cell_type": "code",
   "execution_count": 342,
   "metadata": {
    "collapsed": false
   },
   "outputs": [],
   "source": [
    "fprs = []\n",
    "dis = []\n",
    "for th in np.arange(0.1, 0.6, 0.1):\n",
    "    decisions_aa = threshold_round(scores_aa, threshold=th)\n",
    "    fprs.append(fpr(true_recid_aa, decisions_aa))\n",
    "    dis.append(disparate_impact(decisions_white, \n",
    "                                decisions_aa, \n",
    "                                true_recid_white,\n",
    "                                true_recid_aa))"
   ]
  },
  {
   "cell_type": "code",
   "execution_count": 343,
   "metadata": {
    "collapsed": false
   },
   "outputs": [
    {
     "data": {
      "text/plain": [
       "<matplotlib.legend.Legend at 0x127d2b710>"
      ]
     },
     "execution_count": 343,
     "metadata": {},
     "output_type": "execute_result"
    },
    {
     "data": {
      "image/png": "[encoded data removed]",
      "text/plain": [
       "<matplotlib.figure.Figure at 0x126a3e3d0>"
      ]
     },
     "metadata": {},
     "output_type": "display_data"
    }
   ],
   "source": [
    "xaxis = np.arange(0.1, 0.6, 0.1)\n",
    "plt.plot(xaxis, \n",
    "         np.full(len(xaxis), fpr(true_recid_white, decisions_white)),\n",
    "         label = 'White', marker='o')\n",
    "plt.plot(xaxis, fprs, label= 'Black', marker='o')\n",
    "plt.xlabel('Decision threshold for Black defendants')\n",
    "plt.ylabel('False Positive Rate')\n",
    "plt.ylim(0,1)\n",
    "plt.legend()"
   ]
  },
  {
   "cell_type": "code",
   "execution_count": 344,
   "metadata": {
    "collapsed": false
   },
   "outputs": [
    {
     "data": {
      "text/plain": [
       "<matplotlib.text.Text at 0x127cf6d10>"
      ]
     },
     "execution_count": 344,
     "metadata": {},
     "output_type": "execute_result"
    },
    {
     "data": {
      "image/png": "[encoded data removed]",
      "text/plain": [
       "<matplotlib.figure.Figure at 0x1299879d0>"
      ]
     },
     "metadata": {},
     "output_type": "display_data"
    }
   ],
   "source": [
    "xaxis = np.arange(0.1, 0.6, 0.1)\n",
    "plt.plot(xaxis, dis, marker='o')\n",
    "plt.xlabel('Decision threshold for Black defendants')\n",
    "plt.ylabel('Disparate Impact (bigger magnitude = worse)')"
   ]
  },
  {
   "cell_type": "markdown",
   "metadata": {},
   "source": [
    "## g(x) #2: More likely to switch decision in high-risk preds for white defendants (e.g., imagine some factors that sway judge that are not in the data)"
   ]
  },
  {
   "cell_type": "markdown",
   "metadata": {},
   "source": [
    "Implementation: scores between 0.7 and 1 have random *negative* noise added for white defendants "
   ]
  },
  {
   "cell_type": "code",
   "execution_count": 345,
   "metadata": {
    "collapsed": false
   },
   "outputs": [],
   "source": [
    "decisions_white = threshold_round(noisy_window(scores_white, 0.7, 1.0, mean=-0.1, std=0.1))\n",
    "decisions_aa = threshold_round(scores_aa)"
   ]
  },
  {
   "cell_type": "code",
   "execution_count": 346,
   "metadata": {
    "collapsed": false
   },
   "outputs": [
    {
     "name": "stdout",
     "output_type": "stream",
     "text": [
      "fpr (white): 0.201863354037\n",
      "fpr (black): 0.413793103448\n",
      "disparate impact (for fpr): -0.211929749411\n"
     ]
    }
   ],
   "source": [
    "print \"fpr (white): {}\".format(fpr(true_recid_white, decisions_white))\n",
    "print \"fpr (black): {}\".format(fpr(true_recid_aa, decisions_aa))\n",
    "print \"disparate impact (for fpr): {}\".format(disparate_impact(decisions_white,\n",
    "                                                               decisions_aa,\n",
    "                                                               true_recid_white,\n",
    "                                                               true_recid_aa))"
   ]
  },
  {
   "cell_type": "code",
   "execution_count": 347,
   "metadata": {
    "collapsed": true
   },
   "outputs": [],
   "source": [
    "fprs = []\n",
    "dis = []\n",
    "for noise_mean in np.arange(-0.4, 0, 0.01):\n",
    "    decisions_white = threshold_round(noisy_window(scores_white, 0.7, 1.0, mean=noise_mean, std=0.1))\n",
    "    fprs.append(fpr(true_recid_white, decisions_white))\n",
    "    dis.append(disparate_impact(decisions_white, \n",
    "                                decisions_aa, \n",
    "                                true_recid_white,\n",
    "                                true_recid_aa))"
   ]
  },
  {
   "cell_type": "code",
   "execution_count": 354,
   "metadata": {
    "collapsed": false
   },
   "outputs": [
    {
     "data": {
      "text/plain": [
       "<matplotlib.legend.Legend at 0x12a00fe90>"
      ]
     },
     "execution_count": 354,
     "metadata": {},
     "output_type": "execute_result"
    },
    {
     "data": {
      "image/png": "[encoded data removed]",
      "text/plain": [
       "<matplotlib.figure.Figure at 0x12637c8d0>"
      ]
     },
     "metadata": {},
     "output_type": "display_data"
    }
   ],
   "source": [
    "xaxis = np.arange(-0.4, 0, 0.01)\n",
    "plt.plot(xaxis, \n",
    "         np.full(len(xaxis), fpr(true_recid_aa, decisions_aa)),\n",
    "         label = 'Black', marker='o')\n",
    "plt.plot(xaxis, fprs, label= 'White', marker='o')\n",
    "plt.xlabel('Negative noise (mean) added for white defendants')\n",
    "plt.ylabel('False Positive Rate')\n",
    "#plt.ylim(0,1)\n",
    "plt.legend()"
   ]
  },
  {
   "cell_type": "code",
   "execution_count": 355,
   "metadata": {
    "collapsed": false
   },
   "outputs": [
    {
     "data": {
      "text/plain": [
       "<matplotlib.text.Text at 0x12a083110>"
      ]
     },
     "execution_count": 355,
     "metadata": {},
     "output_type": "execute_result"
    },
    {
     "data": {
      "image/png": "[encoded data removed]",
      "text/plain": [
       "<matplotlib.figure.Figure at 0x11311dc10>"
      ]
     },
     "metadata": {},
     "output_type": "display_data"
    }
   ],
   "source": [
    "plt.plot(xaxis, dis, marker='o')\n",
    "plt.xlabel('Negative noise (mean) added for white defendants')\n",
    "plt.ylabel('Disparate Impact (bigger magnitude = worse)')"
   ]
  },
  {
   "cell_type": "markdown",
   "metadata": {},
   "source": [
    "Other g(x) to try - \n",
    "* switch some percentage of decisions in the extremes\n",
    "* disproportionate noise\n",
    "* catch errors (one-sided, disproportionate)"
   ]
  },
  {
   "cell_type": "code",
   "execution_count": null,
   "metadata": {
    "collapsed": true
   },
   "outputs": [],
   "source": []
  },
  {
   "cell_type": "code",
   "execution_count": null,
   "metadata": {
    "collapsed": true
   },
   "outputs": [],
   "source": []
  },
  {
   "cell_type": "code",
   "execution_count": null,
   "metadata": {
    "collapsed": true
   },
   "outputs": [],
   "source": []
  },
  {
   "cell_type": "code",
   "execution_count": null,
   "metadata": {
    "collapsed": true
   },
   "outputs": [],
   "source": []
  }
 ],
 "metadata": {
  "kernelspec": {
   "display_name": "Python 2",
   "language": "python",
   "name": "python2"
  },
  "language_info": {
   "codemirror_mode": {
    "name": "ipython",
    "version": 2
   },
   "file_extension": ".py",
   "mimetype": "text/x-python",
   "name": "python",
   "nbconvert_exporter": "python",
   "pygments_lexer": "ipython2",
   "version": "2.7.11"
  }
 },
 "nbformat": 4,
 "nbformat_minor": 1
}
