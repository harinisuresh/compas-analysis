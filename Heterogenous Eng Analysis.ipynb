{
 "cells": [
  {
   "cell_type": "markdown",
   "metadata": {},
   "source": [
    "# Compas Analysis\n",
    "\n",
    "\n",
    "## Loading the Data\n",
    "\n",
    "We select fields for severity of charge, number of priors, demographics, age, sex, compas scores, and whether each person was accused of a crime within two years."
   ]
  },
  {
   "cell_type": "code",
   "execution_count": 1,
   "metadata": {
    "collapsed": true
   },
   "outputs": [],
   "source": [
    "import numpy as np\n",
    "import pandas as pd"
   ]
  },
  {
   "cell_type": "code",
   "execution_count": 2,
   "metadata": {
    "collapsed": true
   },
   "outputs": [],
   "source": [
    "import matplotlib.pyplot as plt\n",
    "%matplotlib inline"
   ]
  },
  {
   "cell_type": "code",
   "execution_count": 3,
   "metadata": {
    "collapsed": false
   },
   "outputs": [
    {
     "name": "stderr",
     "output_type": "stream",
     "text": [
      "Using TensorFlow backend.\n"
     ]
    }
   ],
   "source": [
    "import keras \n",
    "from keras.models import Sequential, Model\n",
    "from keras.layers import Dense, Activation, Input, Concatenate"
   ]
  },
  {
   "cell_type": "code",
   "execution_count": 4,
   "metadata": {
    "collapsed": true
   },
   "outputs": [],
   "source": [
    "pd.options.display.max_columns = 100"
   ]
  },
  {
   "cell_type": "code",
   "execution_count": 5,
   "metadata": {
    "collapsed": true
   },
   "outputs": [],
   "source": [
    "raw_data = pd.read_csv('./compas-scores-two-years.csv',delimiter=',')"
   ]
  },
  {
   "cell_type": "code",
   "execution_count": 6,
   "metadata": {
    "collapsed": false
   },
   "outputs": [
    {
     "data": {
      "text/plain": [
       "Index([u'id', u'name', u'first', u'last', u'compas_screening_date', u'sex',\n",
       "       u'dob', u'age', u'age_cat', u'race', u'juv_fel_count', u'decile_score',\n",
       "       u'juv_misd_count', u'juv_other_count', u'priors_count',\n",
       "       u'days_b_screening_arrest', u'c_jail_in', u'c_jail_out',\n",
       "       u'c_case_number', u'c_offense_date', u'c_arrest_date',\n",
       "       u'c_days_from_compas', u'c_charge_degree', u'c_charge_desc',\n",
       "       u'is_recid', u'r_case_number', u'r_charge_degree',\n",
       "       u'r_days_from_arrest', u'r_offense_date', u'r_charge_desc',\n",
       "       u'r_jail_in', u'r_jail_out', u'violent_recid', u'is_violent_recid',\n",
       "       u'vr_case_number', u'vr_charge_degree', u'vr_offense_date',\n",
       "       u'vr_charge_desc', u'type_of_assessment', u'decile_score.1',\n",
       "       u'score_text', u'screening_date', u'v_type_of_assessment',\n",
       "       u'v_decile_score', u'v_score_text', u'v_screening_date', u'in_custody',\n",
       "       u'out_custody', u'priors_count.1', u'start', u'end', u'event',\n",
       "       u'two_year_recid'],\n",
       "      dtype='object')"
      ]
     },
     "execution_count": 6,
     "metadata": {},
     "output_type": "execute_result"
    }
   ],
   "source": [
    "raw_data.columns"
   ]
  },
  {
   "cell_type": "markdown",
   "metadata": {},
   "source": [
    "## Notes from COMPAS analysis:\n",
    "However not all of the rows are useable for the first round of analysis.\n",
    "\n",
    "There are a number of reasons remove rows because of missing data:\n",
    "* If the charge date of a defendants Compas scored crime was not within 30 days from when the person was arrested, we assume that because of data quality reasons, that we do not have the right offense.\n",
    "* We coded the recidivist flag -- `is_recid` -- to be -1 if we could not find a compas case at all.\n",
    "* In a similar vein, ordinary traffic offenses -- those with a `c_charge_degree` of 'O' -- will not result in Jail time are removed (only two of them).\n",
    "* We filtered the underlying data from Broward county to include only those rows representing people who had either recidivated in two years, or had at least two years outside of a correctional facility."
   ]
  },
  {
   "cell_type": "code",
   "execution_count": 7,
   "metadata": {
    "collapsed": true
   },
   "outputs": [],
   "source": [
    "data_df = raw_data[['age', 'c_charge_degree', 'race', 'age_cat', 'score_text', 'sex', 'priors_count', 'days_b_screening_arrest', 'decile_score', 'is_recid', 'two_year_recid', 'c_jail_in', 'c_jail_out']]\n",
    "data_df = data_df[data_df.days_b_screening_arrest <= 30]\n",
    "data_df = data_df[data_df.days_b_screening_arrest >= -30]\n",
    "data_df = data_df[data_df.is_recid != -1]\n",
    "data_df = data_df[data_df.c_charge_degree != \"O\"]\n",
    "data_df = data_df[data_df.score_text != 'N/A']"
   ]
  },
  {
   "cell_type": "code",
   "execution_count": 8,
   "metadata": {
    "collapsed": false
   },
   "outputs": [
    {
     "data": {
      "text/plain": [
       "(6172, 13)"
      ]
     },
     "execution_count": 8,
     "metadata": {},
     "output_type": "execute_result"
    }
   ],
   "source": [
    "data_df.shape"
   ]
  },
  {
   "cell_type": "markdown",
   "metadata": {},
   "source": [
    "## Define Metrics"
   ]
  },
  {
   "cell_type": "code",
   "execution_count": 9,
   "metadata": {
    "collapsed": true
   },
   "outputs": [],
   "source": [
    "# helper score to decision functions\n",
    "def threshold_round(scores, threshold=0.5, noise=False, mean=0, std=0.1):\n",
    "    if noise: scores = add_noise(scores, mean, std)\n",
    "    rounded_preds = np.array(scores >= threshold, dtype=float)\n",
    "    return rounded_preds\n",
    "\n",
    "def add_noise(scores, mean=0, std=.1):\n",
    "    noise = np.random.normal(mean,std,scores.shape)\n",
    "    return scores + noise\n",
    "\n",
    "def noisy_window(scores, lower_limit, upper_limit, mean=0, std=0.1):\n",
    "    scores_copy = np.copy(scores)\n",
    "    noisy_scores = add_noise(scores, mean, std)\n",
    "    scores_copy[(scores_copy >= lower_limit) & (scores_copy <= upper_limit)] = noisy_scores[(scores_copy >= lower_limit) & (scores_copy <= upper_limit)]\n",
    "    return scores_copy"
   ]
  },
  {
   "cell_type": "code",
   "execution_count": 96,
   "metadata": {
    "collapsed": true
   },
   "outputs": [],
   "source": [
    "# Calibration\n",
    "def get_calibration_curve(preds, true):\n",
    "    pred_calibration_arr = []\n",
    "    scores = []\n",
    "    for score in sorted(np.unique(preds)): \n",
    "        scores.append(score)\n",
    "        actual_recid_for_score = true[preds == score]\n",
    "        actual_prob = sum(actual_recid_for_score)*1.0/len(actual_recid_for_score)\n",
    "        pred_calibration_arr.append(actual_prob)\n",
    "    return pred_calibration_arr, scores\n",
    "\n",
    "# fpr\n",
    "def fpr(true, decisions):\n",
    "    tn, fp, fn, tp = confusion_matrix(true, decisions).ravel()\n",
    "    fpr = float(fp) / (fp + tn)\n",
    "    return fpr\n",
    "\n",
    "# fnr\n",
    "def fnr(true, decisions):\n",
    "    tn, fp, fn, tp = confusion_matrix(true, decisions).ravel()\n",
    "    fnr = float(fn) / (fn + tp)\n",
    "    return fnr\n",
    "\n",
    "# Disparate Impact\n",
    "def disparate_impact(group_a_decs, group_b_decs, group_a_true, group_b_true):\n",
    "    fpr_diff = fpr(group_a_true, group_a_decs) - fpr(group_b_true, group_b_decs)\n",
    "    return fpr_diff"
   ]
  },
  {
   "cell_type": "markdown",
   "metadata": {},
   "source": [
    "## Build a Model"
   ]
  },
  {
   "cell_type": "markdown",
   "metadata": {},
   "source": [
    "Building a model to predict recidivism (using age, charge type, # of prior convictions) in case at some point we want to add constraints + modify it instead of just using the existing COMPAS scores."
   ]
  },
  {
   "cell_type": "code",
   "execution_count": 108,
   "metadata": {
    "collapsed": true
   },
   "outputs": [],
   "source": [
    "from sklearn.linear_model import LogisticRegression\n",
    "from sklearn.model_selection import train_test_split\n",
    "from sklearn.metrics import roc_auc_score\n",
    "from sklearn.metrics import confusion_matrix"
   ]
  },
  {
   "cell_type": "code",
   "execution_count": 109,
   "metadata": {
    "collapsed": true
   },
   "outputs": [],
   "source": [
    "data_train, data_test = train_test_split(data_df, test_size = 0.25, random_state = 0, stratify = data_df.two_year_recid)"
   ]
  },
  {
   "cell_type": "code",
   "execution_count": 110,
   "metadata": {
    "collapsed": true
   },
   "outputs": [],
   "source": [
    "X_train = pd.get_dummies(data_train[['age_cat', 'c_charge_degree', 'priors_count']])\n",
    "X_test = pd.get_dummies(data_test[['age_cat', 'c_charge_degree', 'priors_count']])\n",
    "Y_train = data_train['two_year_recid']\n",
    "Y_test = data_test['two_year_recid']"
   ]
  },
  {
   "cell_type": "code",
   "execution_count": 111,
   "metadata": {
    "collapsed": true
   },
   "outputs": [],
   "source": [
    "lr = LogisticRegression()\n",
    "lr.fit(X_train, Y_train)\n",
    "preds = lr.predict_proba(X_test)[:,1]"
   ]
  },
  {
   "cell_type": "code",
   "execution_count": 112,
   "metadata": {
    "collapsed": true
   },
   "outputs": [],
   "source": [
    "accuracy = lr.score(X_test, Y_test)\n",
    "auc = roc_auc_score(Y_test, preds)"
   ]
  },
  {
   "cell_type": "code",
   "execution_count": 16,
   "metadata": {
    "collapsed": false
   },
   "outputs": [
    {
     "data": {
      "text/plain": [
       "(0.6740116655865198, 0.7343381065140875)"
      ]
     },
     "execution_count": 16,
     "metadata": {},
     "output_type": "execute_result"
    }
   ],
   "source": [
    "accuracy, auc"
   ]
  },
  {
   "cell_type": "code",
   "execution_count": 84,
   "metadata": {
    "collapsed": true
   },
   "outputs": [],
   "source": [
    "preds = np.array([round(p, 1) for p in preds])"
   ]
  },
  {
   "cell_type": "code",
   "execution_count": 18,
   "metadata": {
    "collapsed": true
   },
   "outputs": [],
   "source": [
    "true_recid_white = Y_test[data_test.race == 'Caucasian']\n",
    "true_recid_aa = Y_test[data_test.race == 'African-American']"
   ]
  },
  {
   "cell_type": "code",
   "execution_count": 19,
   "metadata": {
    "collapsed": false
   },
   "outputs": [],
   "source": [
    "idx_white = data_train.race == 'Caucasian'\n",
    "idx_aa = data_train.race == 'African-American'"
   ]
  },
  {
   "cell_type": "markdown",
   "metadata": {},
   "source": [
    "### Model Calibration + FPR + DI"
   ]
  },
  {
   "cell_type": "code",
   "execution_count": 20,
   "metadata": {
    "collapsed": true
   },
   "outputs": [],
   "source": [
    "all_calibration = get_calibration_curve(preds, Y_test)\n",
    "white_calibration = get_calibration_curve(preds[data_test.race == 'Caucasian'], true_recid_white)\n",
    "aa_calibration = get_calibration_curve(preds[data_test.race == 'African-American'], true_recid_aa)"
   ]
  },
  {
   "cell_type": "code",
   "execution_count": 21,
   "metadata": {
    "collapsed": false
   },
   "outputs": [
    {
     "data": {
      "text/plain": [
       "(0, 1)"
      ]
     },
     "execution_count": 21,
     "metadata": {},
     "output_type": "execute_result"
    },
    {
     "data": {
      "image/png": "[encoded data removed]",
      "text/plain": [
       "<matplotlib.figure.Figure at 0x13267b8d0>"
      ]
     },
     "metadata": {},
     "output_type": "display_data"
    }
   ],
   "source": [
    "plt.plot(np.unique(preds), all_calibration, label = 'All', marker = 'o')\n",
    "plt.plot(np.unique(preds), white_calibration, label = 'White', marker = 'o')\n",
    "plt.plot(np.unique(preds), aa_calibration, label = 'Black', marker = 'o')\n",
    "plt.plot(np.arange(0, 1.1, 0.1), np.arange(0, 1.1, 0.1), color='black')\n",
    "plt.xlabel('Predicted Recid Prob')\n",
    "plt.ylabel('Acutal Recid Prob')\n",
    "plt.legend(loc=2)\n",
    "plt.xlim(0, 1)\n",
    "plt.ylim(0, 1)"
   ]
  },
  {
   "cell_type": "markdown",
   "metadata": {},
   "source": [
    "Assuming DM that rounds up or down based on 0.5 threshold and follows exactly:"
   ]
  },
  {
   "cell_type": "code",
   "execution_count": 22,
   "metadata": {
    "collapsed": true
   },
   "outputs": [],
   "source": [
    "decisions_white = threshold_round(preds[data_test.race == 'Caucasian']) \n",
    "decisions_aa = threshold_round(preds[data_test.race == 'African-American'])"
   ]
  },
  {
   "cell_type": "code",
   "execution_count": 23,
   "metadata": {
    "collapsed": false
   },
   "outputs": [
    {
     "name": "stdout",
     "output_type": "stream",
     "text": [
      "fpr (white): 0.248447204969\n",
      "fpr (black): 0.427055702918\n"
     ]
    }
   ],
   "source": [
    "print \"fpr (white): \" + str(fpr(true_recid_white, decisions_white))\n",
    "print \"fpr (black): \" + str(fpr(true_recid_aa, decisions_aa))"
   ]
  },
  {
   "cell_type": "code",
   "execution_count": 24,
   "metadata": {
    "collapsed": false
   },
   "outputs": [
    {
     "name": "stdout",
     "output_type": "stream",
     "text": [
      "disparate impact (for fpr): -0.178608497949\n"
     ]
    }
   ],
   "source": [
    "print \"disparate impact (for fpr): {}\".format(disparate_impact(decisions_white,\n",
    "                                                               decisions_aa,\n",
    "                                                               true_recid_white,\n",
    "                                                               true_recid_aa))"
   ]
  },
  {
   "cell_type": "markdown",
   "metadata": {},
   "source": [
    "## Actual COMPAS score calibration + FPR + DI"
   ]
  },
  {
   "cell_type": "code",
   "execution_count": 25,
   "metadata": {
    "collapsed": true
   },
   "outputs": [],
   "source": [
    "scores = data_test.decile_score / 10.\n",
    "scores_white = scores[data_test.race == 'Caucasian']\n",
    "scores_aa = scores[data_test.race == 'African-American']\n",
    "\n",
    "scores = np.array([round(s, 1) for s in scores])\n",
    "scores_white = np.array([round(s, 1) for s in scores_white])\n",
    "scores_aa = np.array([round(s, 1) for s in scores_aa])\n",
    "\n",
    "# Decisions are just rounded scores.\n",
    "decisions = threshold_round(scores)\n",
    "decisions_white = decisions[data_test.race == 'Caucasian']\n",
    "decisions_aa = decisions[data_test.race == 'African-American']"
   ]
  },
  {
   "cell_type": "code",
   "execution_count": 26,
   "metadata": {
    "collapsed": true
   },
   "outputs": [],
   "source": [
    "accuracy = sum(decisions == np.array(Y_test)) / float(len(Y_test))\n",
    "auc = roc_auc_score(Y_test, scores)"
   ]
  },
  {
   "cell_type": "code",
   "execution_count": 27,
   "metadata": {
    "collapsed": false
   },
   "outputs": [
    {
     "data": {
      "text/plain": [
       "(0.6668826960466624, 0.7204818236328343)"
      ]
     },
     "execution_count": 27,
     "metadata": {},
     "output_type": "execute_result"
    }
   ],
   "source": [
    "accuracy, auc"
   ]
  },
  {
   "cell_type": "code",
   "execution_count": 28,
   "metadata": {
    "collapsed": true
   },
   "outputs": [],
   "source": [
    "all_calibration = get_calibration_curve(scores, Y_test)\n",
    "white_calibration = get_calibration_curve(scores_white, true_recid_white)\n",
    "aa_calibration = get_calibration_curve(scores_aa, true_recid_aa)"
   ]
  },
  {
   "cell_type": "code",
   "execution_count": 29,
   "metadata": {
    "collapsed": false
   },
   "outputs": [
    {
     "data": {
      "text/plain": [
       "(0, 1)"
      ]
     },
     "execution_count": 29,
     "metadata": {},
     "output_type": "execute_result"
    },
    {
     "data": {
      "image/png": "[encoded data removed]",
      "text/plain": [
       "<matplotlib.figure.Figure at 0x132635e10>"
      ]
     },
     "metadata": {},
     "output_type": "display_data"
    }
   ],
   "source": [
    "x_axis = np.unique(data_test.decile_score / 10.)\n",
    "plt.plot(x_axis, all_calibration, label = 'All', marker = 'o')\n",
    "plt.plot(x_axis, white_calibration, label = 'White', marker = 'o')\n",
    "plt.plot(x_axis, aa_calibration, label = 'Black', marker = 'o')\n",
    "plt.plot(np.arange(0, 1.1, 0.1), np.arange(0, 1.1, 0.1), color='black')\n",
    "plt.xlabel('Predicted Recid Prob')\n",
    "plt.ylabel('Acutal Recid Prob')\n",
    "plt.legend(loc=2)\n",
    "plt.xlim(0, 1)\n",
    "plt.ylim(0, 1)"
   ]
  },
  {
   "cell_type": "code",
   "execution_count": 30,
   "metadata": {
    "collapsed": false
   },
   "outputs": [
    {
     "name": "stdout",
     "output_type": "stream",
     "text": [
      "fpr (white): 0.204968944099\n",
      "fpr (black): 0.413793103448\n"
     ]
    }
   ],
   "source": [
    "print \"fpr (white): \" + str(fpr(true_recid_white, decisions_white))\n",
    "print \"fpr (black): \" + str(fpr(true_recid_aa, decisions_aa))"
   ]
  },
  {
   "cell_type": "code",
   "execution_count": 31,
   "metadata": {
    "collapsed": false
   },
   "outputs": [
    {
     "name": "stdout",
     "output_type": "stream",
     "text": [
      "disparate impact (for fpr): -0.208824159349\n"
     ]
    }
   ],
   "source": [
    "print \"disparate impact (for fpr): {}\".format(disparate_impact(decisions_white,\n",
    "                                                               decisions_aa,\n",
    "                                                               true_recid_white,\n",
    "                                                               true_recid_aa))"
   ]
  },
  {
   "cell_type": "code",
   "execution_count": 32,
   "metadata": {
    "collapsed": true
   },
   "outputs": [],
   "source": [
    "# what is the decision?  release or detain\n",
    "# what is the outcome? recidivate in 2 yrs or not - sort of weird and indirect"
   ]
  },
  {
   "cell_type": "markdown",
   "metadata": {},
   "source": [
    "Note: this is a bit complicated because deviation from the score is not necessarily *bad* because the score itself isn't that great. "
   ]
  },
  {
   "cell_type": "markdown",
   "metadata": {},
   "source": [
    "## g(x) #1: different thresholds for decision-making\n",
    "If prior belief is \"African American defendants are riskier\", change threshold for predicting recid or not to be lower for those defendants (instead of simply rounding at 0.5)."
   ]
  },
  {
   "cell_type": "markdown",
   "metadata": {},
   "source": [
    "For example, using a threshold of 0.4 for African American defendants:"
   ]
  },
  {
   "cell_type": "code",
   "execution_count": 33,
   "metadata": {
    "collapsed": true
   },
   "outputs": [],
   "source": [
    "decisions_white = threshold_round(scores_white)\n",
    "decisions_aa = threshold_round(scores_aa, threshold=0.4)"
   ]
  },
  {
   "cell_type": "code",
   "execution_count": 34,
   "metadata": {
    "collapsed": false
   },
   "outputs": [
    {
     "name": "stdout",
     "output_type": "stream",
     "text": [
      "fpr (white): 0.204968944099\n",
      "fpr (black): 0.51724137931\n"
     ]
    }
   ],
   "source": [
    "print \"fpr (white): {}\".format(fpr(true_recid_white, decisions_white))\n",
    "print \"fpr (black): {}\".format(fpr(true_recid_aa, decisions_aa))"
   ]
  },
  {
   "cell_type": "code",
   "execution_count": 35,
   "metadata": {
    "collapsed": true
   },
   "outputs": [],
   "source": [
    "fprs = []\n",
    "dis = []\n",
    "for th in np.arange(0.1, 0.6, 0.1):\n",
    "    decisions_aa = threshold_round(scores_aa, threshold=th)\n",
    "    fprs.append(fpr(true_recid_aa, decisions_aa))\n",
    "    dis.append(disparate_impact(decisions_white, \n",
    "                                decisions_aa, \n",
    "                                true_recid_white,\n",
    "                                true_recid_aa))"
   ]
  },
  {
   "cell_type": "code",
   "execution_count": 36,
   "metadata": {
    "collapsed": false
   },
   "outputs": [
    {
     "data": {
      "text/plain": [
       "<matplotlib.legend.Legend at 0x1352e4710>"
      ]
     },
     "execution_count": 36,
     "metadata": {},
     "output_type": "execute_result"
    },
    {
     "data": {
      "image/png": "[encoded data removed]",
      "text/plain": [
       "<matplotlib.figure.Figure at 0x135099b50>"
      ]
     },
     "metadata": {},
     "output_type": "display_data"
    }
   ],
   "source": [
    "xaxis = np.arange(0.1, 0.6, 0.1)\n",
    "plt.plot(xaxis, \n",
    "         np.full(len(xaxis), fpr(true_recid_white, decisions_white)),\n",
    "         label = 'White', marker='o')\n",
    "plt.plot(xaxis, fprs, label= 'Black', marker='o')\n",
    "plt.xlabel('Decision threshold for Black defendants')\n",
    "plt.ylabel('False Positive Rate')\n",
    "plt.ylim(0,1)\n",
    "plt.legend()"
   ]
  },
  {
   "cell_type": "code",
   "execution_count": 37,
   "metadata": {
    "collapsed": false
   },
   "outputs": [
    {
     "data": {
      "text/plain": [
       "<matplotlib.text.Text at 0x1351a3a10>"
      ]
     },
     "execution_count": 37,
     "metadata": {},
     "output_type": "execute_result"
    },
    {
     "data": {
      "image/png": "[encoded data removed]",
      "text/plain": [
       "<matplotlib.figure.Figure at 0x1327d2a50>"
      ]
     },
     "metadata": {},
     "output_type": "display_data"
    }
   ],
   "source": [
    "xaxis = np.arange(0.1, 0.6, 0.1)\n",
    "plt.plot(xaxis, dis, marker='o')\n",
    "plt.xlabel('Decision threshold for Black defendants')\n",
    "plt.ylabel('Disparate Impact (bigger magnitude = worse)')"
   ]
  },
  {
   "cell_type": "markdown",
   "metadata": {},
   "source": [
    "Let's try with the predicted scores, so we can modify the alg: "
   ]
  },
  {
   "cell_type": "markdown",
   "metadata": {},
   "source": [
    "A Logistic Regression predicts f(x) = s from x.  A thresholding function g(s) = y predicts the outcome.  If we didn't know that g was a thresholding function, how would we parameterize it? "
   ]
  },
  {
   "cell_type": "code",
   "execution_count": 38,
   "metadata": {
    "collapsed": false
   },
   "outputs": [],
   "source": [
    "x = Input(shape=(6,))\n",
    "y = Dense(1, activation='sigmoid')(x)\n",
    "model = Model(inputs=x, outputs=y)"
   ]
  },
  {
   "cell_type": "code",
   "execution_count": 39,
   "metadata": {
    "collapsed": false
   },
   "outputs": [
    {
     "name": "stdout",
     "output_type": "stream",
     "text": [
      "Epoch 1/10\n",
      "4629/4629 [==============================] - 0s 65us/step - loss: 1.3875 - acc: 0.4081\n",
      "Epoch 2/10\n",
      "4629/4629 [==============================] - 0s 26us/step - loss: 1.1342 - acc: 0.3647\n",
      "Epoch 3/10\n",
      "4629/4629 [==============================] - 0s 27us/step - loss: 0.9277 - acc: 0.3545\n",
      "Epoch 4/10\n",
      "4629/4629 [==============================] - 0s 27us/step - loss: 0.7783 - acc: 0.3677\n",
      "Epoch 5/10\n",
      "4629/4629 [==============================] - 0s 26us/step - loss: 0.6953 - acc: 0.4681\n",
      "Epoch 6/10\n",
      "4629/4629 [==============================] - 0s 27us/step - loss: 0.6613 - acc: 0.6317\n",
      "Epoch 7/10\n",
      "4629/4629 [==============================] - 0s 28us/step - loss: 0.6437 - acc: 0.6747\n",
      "Epoch 8/10\n",
      "4629/4629 [==============================] - 0s 29us/step - loss: 0.6345 - acc: 0.6716\n",
      "Epoch 9/10\n",
      "4629/4629 [==============================] - 0s 27us/step - loss: 0.6297 - acc: 0.6719\n",
      "Epoch 10/10\n",
      "4629/4629 [==============================] - 0s 28us/step - loss: 0.6268 - acc: 0.6744\n"
     ]
    },
    {
     "data": {
      "text/plain": [
       "<keras.callbacks.History at 0x13567e190>"
      ]
     },
     "execution_count": 39,
     "metadata": {},
     "output_type": "execute_result"
    }
   ],
   "source": [
    "model.compile(optimizer='rmsprop',\n",
    "              loss='binary_crossentropy',\n",
    "              metrics=['accuracy'])\n",
    "model.fit(X_train, Y_train, epochs=10, batch_size=32)"
   ]
  },
  {
   "cell_type": "code",
   "execution_count": 40,
   "metadata": {
    "collapsed": false
   },
   "outputs": [
    {
     "name": "stdout",
     "output_type": "stream",
     "text": [
      "1543/1543 [==============================] - 0s 26us/step\n"
     ]
    }
   ],
   "source": [
    "acc = model.evaluate(X_test, Y_test)[1]\n",
    "preds = model.predict(X_test).flatten()\n",
    "auc = roc_auc_score(Y_test, preds)\n",
    "acc, auc"
   ]
  },
  {
   "cell_type": "code",
   "execution_count": 198,
   "metadata": {
    "collapsed": true
   },
   "outputs": [],
   "source": [
    "keras.backend.clear_session()"
   ]
  },
  {
   "cell_type": "code",
   "execution_count": 199,
   "metadata": {
    "collapsed": false
   },
   "outputs": [],
   "source": [
    "x = Input(shape=(6,))\n",
    "s = Dense(1, activation='sigmoid')(x)\n",
    "score_model = Model(inputs=x, outputs=s)\n",
    "\n",
    "xs = Concatenate(axis=1)([x,s])\n",
    "d1 = Dense(8, activation='relu')(xs)\n",
    "y = Dense(1, activation='sigmoid')(d1)\n",
    "#human_model = Model(inputs=xs, outputs=y)\n",
    "\n",
    "overall_model = Model(inputs=x, outputs=y)"
   ]
  },
  {
   "cell_type": "code",
   "execution_count": 200,
   "metadata": {
    "collapsed": true
   },
   "outputs": [],
   "source": [
    "# Step 1: Train a starting model with X and Y = recidivism (normal labels)"
   ]
  },
  {
   "cell_type": "code",
   "execution_count": 201,
   "metadata": {
    "collapsed": false
   },
   "outputs": [
    {
     "name": "stdout",
     "output_type": "stream",
     "text": [
      "Epoch 1/10\n",
      "4629/4629 [==============================] - 0s 55us/step - loss: 0.6943 - acc: 0.5993\n",
      "Epoch 2/10\n",
      "4629/4629 [==============================] - 0s 26us/step - loss: 0.6426 - acc: 0.6407\n",
      "Epoch 3/10\n",
      "4629/4629 [==============================] - 0s 26us/step - loss: 0.6323 - acc: 0.6537\n",
      "Epoch 4/10\n",
      "4629/4629 [==============================] - 0s 26us/step - loss: 0.6286 - acc: 0.6561\n",
      "Epoch 5/10\n",
      "4629/4629 [==============================] - 0s 26us/step - loss: 0.6265 - acc: 0.6667\n",
      "Epoch 6/10\n",
      "4629/4629 [==============================] - 0s 26us/step - loss: 0.6248 - acc: 0.6669\n",
      "Epoch 7/10\n",
      "4629/4629 [==============================] - 0s 26us/step - loss: 0.6236 - acc: 0.6647\n",
      "Epoch 8/10\n",
      "4629/4629 [==============================] - 0s 26us/step - loss: 0.6228 - acc: 0.6684\n",
      "Epoch 9/10\n",
      "4629/4629 [==============================] - 0s 26us/step - loss: 0.6222 - acc: 0.6682\n",
      "Epoch 10/10\n",
      "4629/4629 [==============================] - 0s 26us/step - loss: 0.6217 - acc: 0.6690\n"
     ]
    },
    {
     "data": {
      "text/plain": [
       "<keras.callbacks.History at 0x15e649e90>"
      ]
     },
     "execution_count": 201,
     "metadata": {},
     "output_type": "execute_result"
    }
   ],
   "source": [
    "score_model.compile(optimizer='rmsprop',\n",
    "              loss='binary_crossentropy',\n",
    "              metrics=['accuracy'])\n",
    "score_model.fit(X_train, Y_train, epochs=10, batch_size=32)"
   ]
  },
  {
   "cell_type": "code",
   "execution_count": 202,
   "metadata": {
    "collapsed": false,
    "scrolled": true
   },
   "outputs": [
    {
     "name": "stdout",
     "output_type": "stream",
     "text": [
      "Epoch 1/10\n",
      "4629/4629 [==============================] - 0s 73us/step - loss: 0.7521 - acc: 0.6051\n",
      "Epoch 2/10\n",
      "4629/4629 [==============================] - 0s 33us/step - loss: 0.4719 - acc: 0.7835\n",
      "Epoch 3/10\n",
      "4629/4629 [==============================] - 0s 33us/step - loss: 0.4170 - acc: 0.7911\n",
      "Epoch 4/10\n",
      "4629/4629 [==============================] - 0s 34us/step - loss: 0.3934 - acc: 0.7933\n",
      "Epoch 5/10\n",
      "4629/4629 [==============================] - 0s 33us/step - loss: 0.3826 - acc: 0.7909\n",
      "Epoch 6/10\n",
      "4629/4629 [==============================] - 0s 40us/step - loss: 0.3781 - acc: 0.7924\n",
      "Epoch 7/10\n",
      "4629/4629 [==============================] - 0s 32us/step - loss: 0.3756 - acc: 0.7939\n",
      "Epoch 8/10\n",
      "4629/4629 [==============================] - 0s 39us/step - loss: 0.3744 - acc: 0.7909\n",
      "Epoch 9/10\n",
      "4629/4629 [==============================] - 0s 35us/step - loss: 0.3735 - acc: 0.7905\n",
      "Epoch 10/10\n",
      "4629/4629 [==============================] - 0s 34us/step - loss: 0.3726 - acc: 0.7917\n",
      "Epoch 1/10\n",
      "4629/4629 [==============================] - 0s 77us/step - loss: 0.7641 - acc: 0.6580\n",
      "Epoch 2/10\n",
      "4629/4629 [==============================] - 0s 33us/step - loss: 0.6637 - acc: 0.6567\n",
      "Epoch 3/10\n",
      "4629/4629 [==============================] - 0s 33us/step - loss: 0.6365 - acc: 0.6619\n",
      "Epoch 4/10\n",
      "4629/4629 [==============================] - 0s 32us/step - loss: 0.6255 - acc: 0.6675\n",
      "Epoch 5/10\n",
      "4629/4629 [==============================] - 0s 32us/step - loss: 0.6207 - acc: 0.6677\n",
      "Epoch 6/10\n",
      "4629/4629 [==============================] - 0s 32us/step - loss: 0.6177 - acc: 0.6684\n",
      "Epoch 7/10\n",
      "4629/4629 [==============================] - 0s 33us/step - loss: 0.6163 - acc: 0.6699\n",
      "Epoch 8/10\n",
      "4629/4629 [==============================] - 0s 33us/step - loss: 0.6159 - acc: 0.6708\n",
      "Epoch 9/10\n",
      "4629/4629 [==============================] - 0s 32us/step - loss: 0.6152 - acc: 0.6695\n",
      "Epoch 10/10\n",
      "4629/4629 [==============================] - 0s 33us/step - loss: 0.6140 - acc: 0.6729\n",
      "Epoch 1/10\n",
      "4629/4629 [==============================] - 0s 84us/step - loss: 0.3734 - acc: 0.8285\n",
      "Epoch 2/10\n",
      "4629/4629 [==============================] - 0s 33us/step - loss: 0.2959 - acc: 0.8373\n",
      "Epoch 3/10\n",
      "4629/4629 [==============================] - 0s 34us/step - loss: 0.2767 - acc: 0.8438\n",
      "Epoch 4/10\n",
      "4629/4629 [==============================] - 0s 34us/step - loss: 0.2685 - acc: 0.8512\n",
      "Epoch 5/10\n",
      "4629/4629 [==============================] - 0s 33us/step - loss: 0.2644 - acc: 0.8520\n",
      "Epoch 6/10\n",
      "4629/4629 [==============================] - 0s 32us/step - loss: 0.2618 - acc: 0.8529\n",
      "Epoch 7/10\n",
      "4629/4629 [==============================] - 0s 33us/step - loss: 0.2605 - acc: 0.8527\n",
      "Epoch 8/10\n",
      "4629/4629 [==============================] - 0s 34us/step - loss: 0.2593 - acc: 0.8531\n",
      "Epoch 9/10\n",
      "4629/4629 [==============================] - 0s 33us/step - loss: 0.2585 - acc: 0.8531\n",
      "Epoch 10/10\n",
      "4629/4629 [==============================] - 0s 33us/step - loss: 0.2575 - acc: 0.8531\n",
      "Epoch 1/10\n",
      "4629/4629 [==============================] - 0s 84us/step - loss: 1.4501 - acc: 0.6483\n",
      "Epoch 2/10\n",
      "4629/4629 [==============================] - 0s 33us/step - loss: 0.8240 - acc: 0.6699\n",
      "Epoch 3/10\n",
      "4629/4629 [==============================] - 0s 33us/step - loss: 0.6808 - acc: 0.6693\n",
      "Epoch 4/10\n",
      "4629/4629 [==============================] - 0s 34us/step - loss: 0.6427 - acc: 0.6671\n",
      "Epoch 5/10\n",
      "4629/4629 [==============================] - 0s 33us/step - loss: 0.6279 - acc: 0.6660\n",
      "Epoch 6/10\n",
      "4629/4629 [==============================] - 0s 32us/step - loss: 0.6221 - acc: 0.6658\n",
      "Epoch 7/10\n",
      "4629/4629 [==============================] - 0s 34us/step - loss: 0.6191 - acc: 0.6673\n",
      "Epoch 8/10\n",
      "4629/4629 [==============================] - 0s 34us/step - loss: 0.6179 - acc: 0.6682\n",
      "Epoch 9/10\n",
      "4629/4629 [==============================] - 0s 33us/step - loss: 0.6171 - acc: 0.6701\n",
      "Epoch 10/10\n",
      "4629/4629 [==============================] - 0s 33us/step - loss: 0.6163 - acc: 0.6703\n",
      "Epoch 1/10\n",
      "4629/4629 [==============================] - 0s 102us/step - loss: 0.3404 - acc: 0.8404\n",
      "Epoch 2/10\n",
      "4629/4629 [==============================] - 0s 34us/step - loss: 0.2533 - acc: 0.8667\n",
      "Epoch 3/10\n",
      "4629/4629 [==============================] - 0s 35us/step - loss: 0.2295 - acc: 0.8734\n",
      "Epoch 4/10\n",
      "4629/4629 [==============================] - 0s 39us/step - loss: 0.2186 - acc: 0.8777\n",
      "Epoch 5/10\n",
      "4629/4629 [==============================] - 0s 36us/step - loss: 0.2130 - acc: 0.8805\n",
      "Epoch 6/10\n",
      "4629/4629 [==============================] - 0s 35us/step - loss: 0.2094 - acc: 0.8805\n",
      "Epoch 7/10\n",
      "4629/4629 [==============================] - 0s 33us/step - loss: 0.2072 - acc: 0.8805\n",
      "Epoch 8/10\n",
      "4629/4629 [==============================] - 0s 34us/step - loss: 0.2059 - acc: 0.8805\n",
      "Epoch 9/10\n",
      "4629/4629 [==============================] - 0s 33us/step - loss: 0.2049 - acc: 0.8805\n",
      "Epoch 10/10\n",
      "4629/4629 [==============================] - 0s 33us/step - loss: 0.2042 - acc: 0.8805\n",
      "Epoch 1/10\n",
      "4629/4629 [==============================] - 0s 97us/step - loss: 2.3365 - acc: 0.6215\n",
      "Epoch 2/10\n",
      "4629/4629 [==============================] - 0s 34us/step - loss: 1.5122 - acc: 0.6654\n",
      "Epoch 3/10\n",
      "4629/4629 [==============================] - 0s 33us/step - loss: 0.9322 - acc: 0.6682\n",
      "Epoch 4/10\n",
      "4629/4629 [==============================] - 0s 33us/step - loss: 0.6953 - acc: 0.6686\n",
      "Epoch 5/10\n",
      "4629/4629 [==============================] - 0s 33us/step - loss: 0.6408 - acc: 0.6682\n",
      "Epoch 6/10\n",
      "4629/4629 [==============================] - 0s 34us/step - loss: 0.6283 - acc: 0.6673\n",
      "Epoch 7/10\n",
      "4629/4629 [==============================] - 0s 33us/step - loss: 0.6230 - acc: 0.6712\n",
      "Epoch 8/10\n",
      "4629/4629 [==============================] - 0s 32us/step - loss: 0.6198 - acc: 0.6738\n",
      "Epoch 9/10\n",
      "4629/4629 [==============================] - 0s 33us/step - loss: 0.6179 - acc: 0.6701\n",
      "Epoch 10/10\n",
      "4629/4629 [==============================] - 0s 33us/step - loss: 0.6168 - acc: 0.6703\n",
      "Epoch 1/10\n",
      "4629/4629 [==============================] - 0s 103us/step - loss: 0.3713 - acc: 0.8069\n",
      "Epoch 2/10\n",
      "4629/4629 [==============================] - 0s 35us/step - loss: 0.1923 - acc: 0.9281\n",
      "Epoch 3/10\n",
      "4629/4629 [==============================] - 0s 34us/step - loss: 0.1342 - acc: 0.9473\n",
      "Epoch 4/10\n",
      "4629/4629 [==============================] - 0s 35us/step - loss: 0.1134 - acc: 0.9473\n",
      "Epoch 5/10\n",
      "4629/4629 [==============================] - 0s 35us/step - loss: 0.1055 - acc: 0.9473\n",
      "Epoch 6/10\n",
      "4629/4629 [==============================] - 0s 34us/step - loss: 0.1010 - acc: 0.9473\n",
      "Epoch 7/10\n",
      "4629/4629 [==============================] - 0s 35us/step - loss: 0.0984 - acc: 0.9473\n",
      "Epoch 8/10\n",
      "4629/4629 [==============================] - 0s 34us/step - loss: 0.0968 - acc: 0.9473\n",
      "Epoch 9/10\n",
      "4629/4629 [==============================] - 0s 33us/step - loss: 0.0956 - acc: 0.9473\n",
      "Epoch 10/10\n",
      "4629/4629 [==============================] - 0s 33us/step - loss: 0.0948 - acc: 0.9471\n",
      "Epoch 1/10\n",
      "4629/4629 [==============================] - 0s 102us/step - loss: 4.1118 - acc: 0.5513\n",
      "Epoch 2/10\n",
      "4629/4629 [==============================] - 0s 33us/step - loss: 3.1620 - acc: 0.5928\n",
      "Epoch 3/10\n",
      "4629/4629 [==============================] - 0s 34us/step - loss: 2.4116 - acc: 0.6137\n",
      "Epoch 4/10\n",
      "4629/4629 [==============================] - 0s 33us/step - loss: 1.7792 - acc: 0.6286\n",
      "Epoch 5/10\n",
      "4629/4629 [==============================] - 0s 33us/step - loss: 1.2574 - acc: 0.6511\n",
      "Epoch 6/10\n",
      "4629/4629 [==============================] - 0s 33us/step - loss: 0.8702 - acc: 0.6494\n",
      "Epoch 7/10\n",
      "4629/4629 [==============================] - 0s 33us/step - loss: 0.7027 - acc: 0.6328\n",
      "Epoch 8/10\n",
      "4629/4629 [==============================] - 0s 33us/step - loss: 0.6609 - acc: 0.6263\n",
      "Epoch 9/10\n",
      "4629/4629 [==============================] - 0s 33us/step - loss: 0.6409 - acc: 0.6317\n",
      "Epoch 10/10\n",
      "4629/4629 [==============================] - 0s 35us/step - loss: 0.6299 - acc: 0.6533\n",
      "Epoch 1/10\n",
      "4629/4629 [==============================] - 1s 113us/step - loss: 0.4780 - acc: 0.7135\n",
      "Epoch 2/10\n",
      "4629/4629 [==============================] - 0s 35us/step - loss: 0.2469 - acc: 0.9456\n",
      "Epoch 3/10\n",
      "4629/4629 [==============================] - 0s 36us/step - loss: 0.1489 - acc: 0.9486\n",
      "Epoch 4/10\n",
      "4629/4629 [==============================] - 0s 35us/step - loss: 0.1122 - acc: 0.9473\n",
      "Epoch 5/10\n",
      "4629/4629 [==============================] - 0s 35us/step - loss: 0.1019 - acc: 0.9473\n",
      "Epoch 6/10\n",
      "4629/4629 [==============================] - 0s 39us/step - loss: 0.0977 - acc: 0.9473\n",
      "Epoch 7/10\n",
      "4629/4629 [==============================] - 0s 39us/step - loss: 0.0956 - acc: 0.9473\n",
      "Epoch 8/10\n",
      "4629/4629 [==============================] - 0s 36us/step - loss: 0.0945 - acc: 0.9473\n",
      "Epoch 9/10\n",
      "4629/4629 [==============================] - 0s 34us/step - loss: 0.0937 - acc: 0.9473\n",
      "Epoch 10/10\n",
      "4629/4629 [==============================] - 0s 35us/step - loss: 0.0933 - acc: 0.9458\n",
      "Epoch 1/10\n",
      "4629/4629 [==============================] - 1s 116us/step - loss: 4.4574 - acc: 0.5513\n",
      "Epoch 2/10\n",
      "4629/4629 [==============================] - 0s 34us/step - loss: 3.5255 - acc: 0.5796\n",
      "Epoch 3/10\n",
      "4629/4629 [==============================] - 0s 35us/step - loss: 2.7327 - acc: 0.6176\n",
      "Epoch 4/10\n",
      "4629/4629 [==============================] - 0s 34us/step - loss: 2.0163 - acc: 0.6448\n",
      "Epoch 5/10\n",
      "4629/4629 [==============================] - 0s 34us/step - loss: 1.3862 - acc: 0.6654\n",
      "Epoch 6/10\n",
      "4629/4629 [==============================] - 0s 32us/step - loss: 0.9376 - acc: 0.6582\n",
      "Epoch 7/10\n",
      "4629/4629 [==============================] - 0s 34us/step - loss: 0.7197 - acc: 0.6546\n",
      "Epoch 8/10\n",
      "4629/4629 [==============================] - 0s 33us/step - loss: 0.6547 - acc: 0.6623\n",
      "Epoch 9/10\n",
      "4629/4629 [==============================] - 0s 33us/step - loss: 0.6325 - acc: 0.6656\n",
      "Epoch 10/10\n",
      "4629/4629 [==============================] - 0s 33us/step - loss: 0.6248 - acc: 0.6656\n"
     ]
    }
   ],
   "source": [
    "for i in range(5):\n",
    "    # Step 2: Get human decisions for these scores to start training human model\n",
    "    # This is training the second half of the network to mimic human decisions\n",
    "    scores = score_model.predict(X_train)\n",
    "    scores_with_race = pd.DataFrame({'score': scores.flatten()})\n",
    "    scores_with_race['race'] = data_train.race.reset_index(drop=True)\n",
    "\n",
    "    decision_train = scores_with_race.apply(lambda row: threshold_round(row.score, threshold=0.3) \n",
    "                           if row['race'] == \"African-American\" \n",
    "                           else threshold_round(row.score), axis=1)\n",
    "    \n",
    "    # Freeze weights for score model\n",
    "    s.trainable = False\n",
    "    d1.trainable = True\n",
    "    y.trainable = True\n",
    "    overall_model.compile(optimizer='rmsprop',\n",
    "                  loss='binary_crossentropy',\n",
    "                  metrics=['accuracy'])\n",
    "    \n",
    "    overall_model.fit(X_train, decision_train, epochs=10, batch_size=32)\n",
    "    \n",
    "    # Step 3: Freeze human part and retrain scores to get scores that will lead to the right decision\n",
    "    \n",
    "    s.trainable = True\n",
    "    d1.trainable = False\n",
    "    y.trainable = False\n",
    "    overall_model.compile(optimizer='rmsprop',\n",
    "                  loss='binary_crossentropy',\n",
    "                  metrics=['accuracy'])\n",
    "    \n",
    "    overall_model.fit(X_train, Y_train, epochs=10, batch_size=32)\n",
    "    "
   ]
  },
  {
   "cell_type": "code",
   "execution_count": 64,
   "metadata": {
    "collapsed": true
   },
   "outputs": [],
   "source": []
  },
  {
   "cell_type": "code",
   "execution_count": 65,
   "metadata": {
    "collapsed": true
   },
   "outputs": [],
   "source": []
  },
  {
   "cell_type": "code",
   "execution_count": 203,
   "metadata": {
    "collapsed": false
   },
   "outputs": [],
   "source": [
    "new_scores = score_model.predict(X_train).flatten()\n",
    "new_scores = np.array([round(p, 1) for p in new_scores])\n",
    "new_scores_with_race = pd.DataFrame({'score': new_scores})\n",
    "new_scores_with_race['race'] = data_train.race.reset_index(drop=True)"
   ]
  },
  {
   "cell_type": "code",
   "execution_count": 204,
   "metadata": {
    "collapsed": false
   },
   "outputs": [],
   "source": [
    "Y_train_with_race = pd.DataFrame({'Y': Y_train.copy()})\n",
    "Y_train_with_race['race'] = data_train.race"
   ]
  },
  {
   "cell_type": "code",
   "execution_count": 205,
   "metadata": {
    "collapsed": false
   },
   "outputs": [],
   "source": [
    "white_calibration, x_axis_1 = get_calibration_curve(new_scores_with_race[new_scores_with_race.race == 'Caucasian'].score.reset_index(drop=True), \n",
    "                                          Y_train_with_race[Y_train_with_race.race == 'Caucasian'].Y.reset_index(drop=True))\n",
    "\n",
    "aa_calibration, x_axis_2 = get_calibration_curve(new_scores_with_race[new_scores_with_race.race == 'African-American'].score.reset_index(drop=True), \n",
    "                                          Y_train_with_race[Y_train_with_race.race == 'African-American'].Y.reset_index(drop=True))\n"
   ]
  },
  {
   "cell_type": "code",
   "execution_count": 206,
   "metadata": {
    "collapsed": false
   },
   "outputs": [
    {
     "data": {
      "text/plain": [
       "([0.13114754098360656,\n",
       "  0.29411764705882354,\n",
       "  0.12307692307692308,\n",
       "  0.3902439024390244,\n",
       "  0.3288590604026846,\n",
       "  0.2958579881656805,\n",
       "  0.5188442211055276],\n",
       " [0.3, 0.5, 0.6, 0.7, 0.8, 0.9, 1.0])"
      ]
     },
     "execution_count": 206,
     "metadata": {},
     "output_type": "execute_result"
    }
   ],
   "source": [
    "white_calibration, x_axis_1"
   ]
  },
  {
   "cell_type": "code",
   "execution_count": 207,
   "metadata": {
    "collapsed": false
   },
   "outputs": [
    {
     "data": {
      "text/plain": [
       "(0, 1)"
      ]
     },
     "execution_count": 207,
     "metadata": {},
     "output_type": "execute_result"
    },
    {
     "data": {
      "image/png": "[encoded data removed]",
      "text/plain": [
       "<matplotlib.figure.Figure at 0x162141f90>"
      ]
     },
     "metadata": {},
     "output_type": "display_data"
    }
   ],
   "source": [
    "x_axis = np.unique(data_test.decile_score / 10.)\n",
    "plt.plot(x_axis_1, white_calibration, label = 'White', marker = 'o')\n",
    "plt.plot(x_axis_2, aa_calibration, label = 'Black', marker = 'o')\n",
    "plt.plot(np.arange(0, 1.1, 0.1), np.arange(0, 1.1, 0.1), color='black')\n",
    "plt.xlabel('Predicted Recid Prob')\n",
    "plt.ylabel('Acutal Recid Prob')\n",
    "plt.legend(loc=2)\n",
    "plt.xlim(0, 1)\n",
    "plt.ylim(0, 1)"
   ]
  },
  {
   "cell_type": "code",
   "execution_count": 208,
   "metadata": {
    "collapsed": true
   },
   "outputs": [],
   "source": [
    "decisions_white = threshold_round(new_scores_with_race[new_scores_with_race.race == 'Caucasian'].score.reset_index(drop=True))\n",
    "decisions_aa = threshold_round(new_scores_with_race[new_scores_with_race.race == 'African-American'].score.reset_index(drop=True), threshold=0.4)"
   ]
  },
  {
   "cell_type": "code",
   "execution_count": 209,
   "metadata": {
    "collapsed": false
   },
   "outputs": [
    {
     "name": "stdout",
     "output_type": "stream",
     "text": [
      "fpr (white): 0.889468196038\n",
      "fpr (black): 0.97273526825\n"
     ]
    }
   ],
   "source": [
    "print \"fpr (white): {}\".format(fpr(Y_train_with_race[Y_train_with_race.race == 'Caucasian'].Y.reset_index(drop=True), decisions_white))\n",
    "print \"fpr (black): {}\".format(fpr(Y_train_with_race[Y_train_with_race.race == 'African-American'].Y.reset_index(drop=True), decisions_aa))"
   ]
  },
  {
   "cell_type": "code",
   "execution_count": 210,
   "metadata": {
    "collapsed": true
   },
   "outputs": [],
   "source": [
    "preds = overall_model.predict(X_test)"
   ]
  },
  {
   "cell_type": "code",
   "execution_count": 211,
   "metadata": {
    "collapsed": false
   },
   "outputs": [
    {
     "name": "stdout",
     "output_type": "stream",
     "text": [
      "1543/1543 [==============================] - 0s 84us/step\n"
     ]
    },
    {
     "data": {
      "text/plain": [
       "[0.6065147539971327, 0.6830848995656529]"
      ]
     },
     "execution_count": 211,
     "metadata": {},
     "output_type": "execute_result"
    }
   ],
   "source": [
    "overall_model.evaluate(X_test, Y_test)"
   ]
  },
  {
   "cell_type": "code",
   "execution_count": 212,
   "metadata": {
    "collapsed": false
   },
   "outputs": [
    {
     "data": {
      "text/plain": [
       "0.7251423654515212"
      ]
     },
     "execution_count": 212,
     "metadata": {},
     "output_type": "execute_result"
    }
   ],
   "source": [
    "auc = roc_auc_score(Y_test, preds)\n",
    "auc"
   ]
  },
  {
   "cell_type": "code",
   "execution_count": null,
   "metadata": {
    "collapsed": true
   },
   "outputs": [],
   "source": []
  },
  {
   "cell_type": "code",
   "execution_count": null,
   "metadata": {
    "collapsed": true
   },
   "outputs": [],
   "source": []
  },
  {
   "cell_type": "code",
   "execution_count": null,
   "metadata": {
    "collapsed": true
   },
   "outputs": [],
   "source": []
  },
  {
   "cell_type": "code",
   "execution_count": 213,
   "metadata": {
    "collapsed": true
   },
   "outputs": [],
   "source": [
    "original_preds = lr.predict_proba(X_train)[:,1]"
   ]
  },
  {
   "cell_type": "code",
   "execution_count": 214,
   "metadata": {
    "collapsed": true
   },
   "outputs": [],
   "source": [
    "new_preds = score_model.predict(X_train)"
   ]
  },
  {
   "cell_type": "code",
   "execution_count": 215,
   "metadata": {
    "collapsed": false
   },
   "outputs": [
    {
     "data": {
      "text/plain": [
       "(array([2.35787419, 3.49429224, 1.87083788, 1.10549511, 1.87856862,\n",
       "        0.78080424, 0.42519043, 0.18553764, 0.10823029, 0.06184588]),\n",
       " array([0.1774311 , 0.25893948, 0.34044787, 0.42195625, 0.50346463,\n",
       "        0.58497302, 0.6664814 , 0.74798979, 0.82949817, 0.91100656,\n",
       "        0.99251494]),\n",
       " <a list of 10 Patch objects>)"
      ]
     },
     "execution_count": 215,
     "metadata": {},
     "output_type": "execute_result"
    },
    {
     "data": {
      "image/png": "[encoded data removed]",
      "text/plain": [
       "<matplotlib.figure.Figure at 0x15f669ed0>"
      ]
     },
     "metadata": {},
     "output_type": "display_data"
    }
   ],
   "source": [
    "plt.hist(original_preds[idx_aa], color='red', alpha=0.5, normed=True)\n",
    "plt.hist(original_preds[idx_white], color='blue', alpha=0.5, normed=True)"
   ]
  },
  {
   "cell_type": "code",
   "execution_count": 197,
   "metadata": {
    "collapsed": false
   },
   "outputs": [
    {
     "data": {
      "text/plain": [
       "(array([5.98022526, 1.07798052, 0.09624827, 0.03208275, 0.0898317 ,\n",
       "        0.        , 0.14116406, 0.21174622, 0.20532954, 2.34845809]),\n",
       " array([2.7755483e-13, 9.8202251e-02, 1.9640450e-01, 2.9460675e-01,\n",
       "        3.9280900e-01, 4.9101126e-01, 5.8921349e-01, 6.8741578e-01,\n",
       "        7.8561801e-01, 8.8382030e-01, 9.8202252e-01], dtype=float32),\n",
       " <a list of 10 Patch objects>)"
      ]
     },
     "execution_count": 197,
     "metadata": {},
     "output_type": "execute_result"
    },
    {
     "data": {
      "image/png": "[encoded data removed]",
      "text/plain": [
       "<matplotlib.figure.Figure at 0x15d236c50>"
      ]
     },
     "metadata": {},
     "output_type": "display_data"
    }
   ],
   "source": [
    "plt.hist(new_preds.flatten()[idx_aa], color='red', alpha=0.5, normed=True)\n",
    "plt.hist(new_preds.flatten()[idx_white], color='blue', alpha=0.5, normed=True)"
   ]
  },
  {
   "cell_type": "code",
   "execution_count": null,
   "metadata": {
    "collapsed": true
   },
   "outputs": [],
   "source": []
  },
  {
   "cell_type": "code",
   "execution_count": null,
   "metadata": {
    "collapsed": true
   },
   "outputs": [],
   "source": []
  },
  {
   "cell_type": "markdown",
   "metadata": {},
   "source": [
    "## g(x) #2: More likely to switch decision in high-risk preds for white defendants (e.g., imagine some factors that sway judge that are not in the data)"
   ]
  },
  {
   "cell_type": "markdown",
   "metadata": {},
   "source": [
    "Implementation: scores between 0.7 and 1 have random *negative* noise added for white defendants "
   ]
  },
  {
   "cell_type": "code",
   "execution_count": 36,
   "metadata": {
    "collapsed": true
   },
   "outputs": [],
   "source": [
    "decisions_white = threshold_round(noisy_window(scores_white, 0.7, 1.0, mean=-0.1, std=0.1))\n",
    "decisions_aa = threshold_round(scores_aa)"
   ]
  },
  {
   "cell_type": "code",
   "execution_count": 37,
   "metadata": {
    "collapsed": false
   },
   "outputs": [
    {
     "name": "stdout",
     "output_type": "stream",
     "text": [
      "fpr (white): 0.195652173913\n",
      "fpr (black): 0.413793103448\n",
      "disparate impact (for fpr): -0.218140929535\n"
     ]
    }
   ],
   "source": [
    "print \"fpr (white): {}\".format(fpr(true_recid_white, decisions_white))\n",
    "print \"fpr (black): {}\".format(fpr(true_recid_aa, decisions_aa))\n",
    "print \"disparate impact (for fpr): {}\".format(disparate_impact(decisions_white,\n",
    "                                                               decisions_aa,\n",
    "                                                               true_recid_white,\n",
    "                                                               true_recid_aa))"
   ]
  },
  {
   "cell_type": "code",
   "execution_count": 38,
   "metadata": {
    "collapsed": true
   },
   "outputs": [],
   "source": [
    "fprs = []\n",
    "dis = []\n",
    "for noise_mean in np.arange(-0.4, 0, 0.01):\n",
    "    decisions_white = threshold_round(noisy_window(scores_white, 0.7, 1.0, mean=noise_mean, std=0.1))\n",
    "    fprs.append(fpr(true_recid_white, decisions_white))\n",
    "    dis.append(disparate_impact(decisions_white, \n",
    "                                decisions_aa, \n",
    "                                true_recid_white,\n",
    "                                true_recid_aa))"
   ]
  },
  {
   "cell_type": "code",
   "execution_count": 39,
   "metadata": {
    "collapsed": false
   },
   "outputs": [
    {
     "data": {
      "text/plain": [
       "<matplotlib.legend.Legend at 0x1261c8ed0>"
      ]
     },
     "execution_count": 39,
     "metadata": {},
     "output_type": "execute_result"
    },
    {
     "data": {
      "image/png": "[encoded data removed]",
      "text/plain": [
       "<matplotlib.figure.Figure at 0x126119210>"
      ]
     },
     "metadata": {},
     "output_type": "display_data"
    }
   ],
   "source": [
    "xaxis = np.arange(-0.4, 0, 0.01)\n",
    "plt.plot(xaxis, \n",
    "         np.full(len(xaxis), fpr(true_recid_aa, decisions_aa)),\n",
    "         label = 'Black', marker='o')\n",
    "plt.plot(xaxis, fprs, label= 'White', marker='o')\n",
    "plt.xlabel('Negative noise (mean) added for white defendants')\n",
    "plt.ylabel('False Positive Rate')\n",
    "#plt.ylim(0,1)\n",
    "plt.legend()"
   ]
  },
  {
   "cell_type": "code",
   "execution_count": 40,
   "metadata": {
    "collapsed": false
   },
   "outputs": [
    {
     "data": {
      "text/plain": [
       "<matplotlib.text.Text at 0x12616a410>"
      ]
     },
     "execution_count": 40,
     "metadata": {},
     "output_type": "execute_result"
    },
    {
     "data": {
      "image/png": "[encoded data removed]",
      "text/plain": [
       "<matplotlib.figure.Figure at 0x1238729d0>"
      ]
     },
     "metadata": {},
     "output_type": "display_data"
    }
   ],
   "source": [
    "plt.plot(xaxis, dis, marker='o')\n",
    "plt.xlabel('Negative noise (mean) added for white defendants')\n",
    "plt.ylabel('Disparate Impact (bigger magnitude = worse)')"
   ]
  },
  {
   "cell_type": "markdown",
   "metadata": {},
   "source": [
    "Other g(x) to try - \n",
    "* switch some percentage of decisions in the extremes\n",
    "* disproportionate noise\n",
    "* catch errors (one-sided, disproportionate)"
   ]
  },
  {
   "cell_type": "code",
   "execution_count": null,
   "metadata": {
    "collapsed": true
   },
   "outputs": [],
   "source": []
  },
  {
   "cell_type": "code",
   "execution_count": null,
   "metadata": {
    "collapsed": true
   },
   "outputs": [],
   "source": []
  },
  {
   "cell_type": "code",
   "execution_count": null,
   "metadata": {
    "collapsed": true
   },
   "outputs": [],
   "source": []
  },
  {
   "cell_type": "code",
   "execution_count": null,
   "metadata": {
    "collapsed": true
   },
   "outputs": [],
   "source": []
  }
 ],
 "metadata": {
  "kernelspec": {
   "display_name": "Python 2",
   "language": "python",
   "name": "python2"
  },
  "language_info": {
   "codemirror_mode": {
    "name": "ipython",
    "version": 2
   },
   "file_extension": ".py",
   "mimetype": "text/x-python",
   "name": "python",
   "nbconvert_exporter": "python",
   "pygments_lexer": "ipython2",
   "version": "2.7.11"
  }
 },
 "nbformat": 4,
 "nbformat_minor": 1
}
